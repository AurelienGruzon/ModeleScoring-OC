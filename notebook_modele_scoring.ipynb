{
 "cells": [
  {
   "cell_type": "markdown",
   "id": "76e207fa",
   "metadata": {},
   "source": [
    "# Librairies"
   ]
  },
  {
   "cell_type": "code",
   "execution_count": null,
   "id": "7df17f3b",
   "metadata": {},
   "outputs": [],
   "source": [
    "# numpy and pandas for data manipulation\n",
    "import numpy as np\n",
    "import pandas as pd \n",
    "\n",
    "# shap and lime for feature importance (global and local)\n",
    "import shap\n",
    "import lime\n",
    "\n",
    "# sklearn \n",
    "from sklearn.preprocessing import LabelEncoder, PolynomialFeatures\n",
    "from sklearn.compose import ColumnTransformer\n",
    "from sklearn.preprocessing import OneHotEncoder, OrdinalEncoder\n",
    "from sklearn.pipeline import Pipeline\n",
    "from sklearn.preprocessing import MinMaxScaler, StandardScaler\n",
    "from sklearn.model_selection import KFold\n",
    "from sklearn.metrics import roc_auc_score, confusion_matrix, classification_report\n",
    "from sklearn.ensemble import RandomForestClassifier\n",
    "from sklearn.model_selection import ParameterGrid, train_test_split\n",
    "from sklearn.base import clone\n",
    "from sklearn.impute import SimpleImputer\n",
    "\n",
    "import gc\n",
    "import lightgbm as lgb\n",
    "\n",
    "# File system manangement\n",
    "import os\n",
    "\n",
    "# Suppress warnings \n",
    "import warnings\n",
    "warnings.filterwarnings('ignore')\n",
    "\n",
    "# matplotlib and seaborn for plotting\n",
    "import matplotlib.pyplot as plt\n",
    "import seaborn as sns"
   ]
  },
  {
   "cell_type": "markdown",
   "id": "8358bb45",
   "metadata": {},
   "source": [
    "# Functions"
   ]
  },
  {
   "cell_type": "markdown",
   "id": "56ba696e",
   "metadata": {},
   "source": [
    "### Missing Values Table"
   ]
  },
  {
   "cell_type": "code",
   "execution_count": 1,
   "id": "19565272",
   "metadata": {},
   "outputs": [],
   "source": [
    "# Function to calculate missing values by column# Funct \n",
    "def missing_values_table(df):\n",
    "        # Total missing values\n",
    "        mis_val = df.isnull().sum()\n",
    "        \n",
    "        # Percentage of missing values\n",
    "        mis_val_percent = 100 * df.isnull().sum() / len(df)\n",
    "        \n",
    "        # Make a table with the results\n",
    "        mis_val_table = pd.concat([mis_val, mis_val_percent], axis=1)\n",
    "        \n",
    "        # Rename the columns\n",
    "        mis_val_table_ren_columns = mis_val_table.rename(\n",
    "        columns = {0 : 'Missing Values', 1 : '% of Total Values'})\n",
    "        \n",
    "        # Sort the table by percentage of missing descending\n",
    "        mis_val_table_ren_columns = mis_val_table_ren_columns[\n",
    "            mis_val_table_ren_columns.iloc[:,1] != 0].sort_values(\n",
    "        '% of Total Values', ascending=False).round(1)\n",
    "        \n",
    "        # Print some summary information\n",
    "        print (\"Your selected dataframe has \" + str(df.shape[1]) + \" columns.\\n\"      \n",
    "            \"There are \" + str(mis_val_table_ren_columns.shape[0]) +\n",
    "              \" columns that have missing values.\")\n",
    "        \n",
    "        # Return the dataframe with missing information\n",
    "        return mis_val_table_ren_columns"
   ]
  },
  {
   "cell_type": "markdown",
   "id": "ae9d2f80",
   "metadata": {},
   "source": [
    "### Alignement des données"
   ]
  },
  {
   "cell_type": "code",
   "execution_count": null,
   "id": "7587faf8",
   "metadata": {},
   "outputs": [],
   "source": [
    "def align_train_test(app_train, app_test, target_col):\n",
    "    # Sauvegarder la colonne cible\n",
    "    train_labels = app_train[target_col]\n",
    "    \n",
    "    # Supprimer la cible du train pour ne pas perturber l’alignement\n",
    "    app_train_wo_target = app_train.drop(columns=[target_col])\n",
    "    \n",
    "    # Aligner les colonnes entre train et test (intersection)\n",
    "    app_train_aligned, app_test_aligned = app_train_wo_target.align(app_test, join='inner', axis=1)\n",
    "    \n",
    "    # Réinsérer la colonne cible\n",
    "    app_train_aligned[target_col] = train_labels\n",
    "    \n",
    "    return app_train_aligned, app_test_aligned"
   ]
  },
  {
   "cell_type": "markdown",
   "id": "c191a8e9",
   "metadata": {},
   "source": [
    "### Création du Train Test Split"
   ]
  },
  {
   "cell_type": "code",
   "execution_count": null,
   "id": "16c3400e",
   "metadata": {},
   "outputs": [],
   "source": [
    "def create_split(df, target, test_size=0.2, random_state=42):\n",
    "    X = df.drop(columns=[target])\n",
    "    y = df[target]\n",
    "    return train_test_split(X, y, test_size=test_size, random_state=random_state)"
   ]
  },
  {
   "cell_type": "markdown",
   "id": "85992257",
   "metadata": {},
   "source": [
    "### Selection des colonnes à encoder"
   ]
  },
  {
   "cell_type": "code",
   "execution_count": null,
   "id": "839d6c9d",
   "metadata": {},
   "outputs": [],
   "source": [
    "def def_cols(df):\n",
    "\n",
    "    le_count = 0\n",
    "    oh_count = 0\n",
    "    label_cols = []\n",
    "    onehot_cols = []\n",
    "\n",
    "    # Iterate through the columns\n",
    "    for col in df.columns:\n",
    "        if df[col].dtype == 'object':\n",
    "            # If 2 or fewer unique categories\n",
    "            if len(list(df[col].unique())) <= 2:\n",
    "                # Add col to label_cols\n",
    "                label_cols.append(col)\n",
    "                \n",
    "                # Keep track of how many columns were label encoded\n",
    "                le_count += 1\n",
    "    \n",
    "    onehot_cols = df.select_dtypes(include=['object', 'category']).columns.tolist()\n",
    "    oh_count = len(onehot_cols)\n",
    "\n",
    "    print('%d columns were label encoded.' % le_count)\n",
    "    print('%d columns were onehot encoded.' % oh_count)\n",
    "\n",
    "    return {\n",
    "        'label_cols': label_cols,\n",
    "        'onehot_cols': onehot_cols,\n",
    "    }"
   ]
  },
  {
   "cell_type": "markdown",
   "id": "622f9a6b",
   "metadata": {},
   "source": [
    "### Encodage Label et OneHot "
   ]
  },
  {
   "cell_type": "code",
   "execution_count": null,
   "id": "26014ac1",
   "metadata": {},
   "outputs": [],
   "source": [
    "def encoder(label_cols, onehot_cols):\n",
    "    return ColumnTransformer(\n",
    "        transformers=[\n",
    "            (\n",
    "                'label', \n",
    "                OrdinalEncoder(), \n",
    "                label_cols\n",
    "            ),\n",
    "            (\n",
    "                'onehot', \n",
    "                OneHotEncoder(\n",
    "                    handle_unknown='ignore', \n",
    "                    sparse_output=False\n",
    "                ), \n",
    "                onehot_cols\n",
    "            )\n",
    "        ],\n",
    "        remainder='passthrough'\n",
    "    )"
   ]
  },
  {
   "cell_type": "markdown",
   "id": "79ecb87d",
   "metadata": {},
   "source": [
    "### Polynomial Features"
   ]
  },
  {
   "cell_type": "code",
   "execution_count": null,
   "id": "2d104f26",
   "metadata": {},
   "outputs": [],
   "source": [
    "def polynomial(poly_cols, degree=2):\n",
    "    return ColumnTransformer(\n",
    "        transformers=[\n",
    "            (\n",
    "                'poly_scaled',\n",
    "                Pipeline([\n",
    "                    (\n",
    "                        'imputer', \n",
    "                        SimpleImputer(\n",
    "                            strategy='median'\n",
    "                        )\n",
    "                    ),\n",
    "                    (\n",
    "                        'poly', \n",
    "                        PolynomialFeatures(\n",
    "                            degree=degree, \n",
    "                            include_bias=False,\n",
    "                            sparse_output=False\n",
    "                        )\n",
    "                    ),\n",
    "                    (\n",
    "                        'scaler', \n",
    "                        StandardScaler()\n",
    "                    )\n",
    "                ]),\n",
    "                poly_cols\n",
    "            )\n",
    "        ],\n",
    "        remainder='passthrough',\n",
    "        verbose_feature_names_out=False\n",
    "    )"
   ]
  },
  {
   "cell_type": "markdown",
   "id": "ec2dc838",
   "metadata": {},
   "source": [
    "### Scaler"
   ]
  },
  {
   "cell_type": "code",
   "execution_count": null,
   "id": "e0332703",
   "metadata": {},
   "outputs": [],
   "source": [
    "def scaler(minmax_cols,standard_cols):\n",
    "    return ColumnTransformer(\n",
    "        transformers=[\n",
    "            (\n",
    "                'MinMax', \n",
    "                MinMaxScaler(), \n",
    "                minmax_cols\n",
    "            ),\n",
    "            (\n",
    "                'Standard', \n",
    "                StandardScaler(), \n",
    "                standard_cols\n",
    "            ),\n",
    "        ],\n",
    "        remainder='passthrough'\n",
    "    )\n"
   ]
  },
  {
   "cell_type": "markdown",
   "id": "b5f533b8",
   "metadata": {},
   "source": [
    "### Création de la Pipeline"
   ]
  },
  {
   "cell_type": "code",
   "execution_count": null,
   "id": "1c7f69c9",
   "metadata": {},
   "outputs": [],
   "source": [
    "def build_pipeline(model, label_cols, onehot_cols, poly_cols, minmax_cols, standard_cols):\n",
    "    return  Pipeline(\n",
    "        steps=[\n",
    "            (\n",
    "                'Encoder',\n",
    "                encoder(\n",
    "                    label_cols=label_cols, \n",
    "                    onehot_cols=onehot_cols\n",
    "                )\n",
    "            ),\n",
    "            (\n",
    "                'Polynomial',\n",
    "                polynomial(\n",
    "                    poly_cols=poly_cols\n",
    "                )\n",
    "            ),\n",
    "            (\n",
    "                'Scaler',\n",
    "                scaler(\n",
    "                    minmax_cols=minmax_cols,\n",
    "                    standard_cols=standard_cols\n",
    "                )\n",
    "            ),\n",
    "            (\n",
    "                'Model', model\n",
    "            )\n",
    "        ]\n",
    "    )\n"
   ]
  },
  {
   "cell_type": "markdown",
   "id": "d0012975",
   "metadata": {},
   "source": []
  }
 ],
 "metadata": {
  "kernelspec": {
   "display_name": "projet-4-py3.12",
   "language": "python",
   "name": "python3"
  },
  "language_info": {
   "codemirror_mode": {
    "name": "ipython",
    "version": 3
   },
   "file_extension": ".py",
   "mimetype": "text/x-python",
   "name": "python",
   "nbconvert_exporter": "python",
   "pygments_lexer": "ipython3",
   "version": "3.12.9"
  }
 },
 "nbformat": 4,
 "nbformat_minor": 5
}
